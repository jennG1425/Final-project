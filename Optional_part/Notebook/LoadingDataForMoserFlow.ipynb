{
 "cells": [
  {
   "cell_type": "code",
   "execution_count": 3,
   "metadata": {},
   "outputs": [],
   "source": [
    "import numpy as np"
   ]
  },
  {
   "cell_type": "code",
   "execution_count": 17,
   "metadata": {},
   "outputs": [],
   "source": [
    "Data = np.loadtxt('../ai_fluidmechanics/data/channel_Re590.txt', skiprows=8)\n",
    "Data;"
   ]
  },
  {
   "cell_type": "code",
   "execution_count": 30,
   "metadata": {},
   "outputs": [],
   "source": [
    "#Load of the columns of the data\n",
    "tke = Data[:,0]\n",
    "epsilon = Data[:,1]\n",
    "gradU_flat = Data[:,2:11]\n",
    "Stress_flat = Data[:,11:]"
   ]
  },
  {
   "cell_type": "code",
   "execution_count": 32,
   "metadata": {},
   "outputs": [],
   "source": [
    "points = Data.shape[0]\n",
    "gradU = np.zeros((points, 3,3))\n",
    "Stresses = np.zeros((points, 3, 3))"
   ]
  },
  {
   "cell_type": "code",
   "execution_count": 33,
   "metadata": {},
   "outputs": [],
   "source": [
    "for i in range(3):\n",
    "    for j in range(3):\n",
    "        gradU[:,i,j] = gradU_flat[:,i*3+j]\n",
    "        Stresses[:,i,j] = Stress_flat[:,i*3+j]"
   ]
  },
  {
   "cell_type": "code",
   "execution_count": 35,
   "metadata": {},
   "outputs": [],
   "source": [
    "#Tensors S and R\n",
    "Sij = np.zeros((points, 3, 3))\n",
    "Rij = np.zeros((points, 3, 3))"
   ]
  },
  {
   "cell_type": "code",
   "execution_count": 37,
   "metadata": {},
   "outputs": [],
   "source": [
    "for i in range(points):\n",
    "    Sij[i,:,:] = 0.5*(gradU[i,:,:]+np.transpose(gradU[i,:,:]))\n",
    "    Rij[i,:,:] = 0.5*(gradU[i,:,:]-np.transpose(gradU[i,:,:]))"
   ]
  },
  {
   "cell_type": "code",
   "execution_count": 38,
   "metadata": {},
   "outputs": [],
   "source": [
    "Points2 = Sij.shape[0]\n",
    "No_invariants = 5\n",
    "invariants = np.zeros((Points2, No_invariants))"
   ]
  },
  {
   "cell_type": "code",
   "execution_count": 39,
   "metadata": {},
   "outputs": [],
   "source": [
    "#Create the five invariantes\n",
    "for i in range(Points2):\n",
    "    invariants[i,0] = np.trace(np.dot(Sij[i,:,:], Sij[i,:,:]))\n",
    "    invariants[i,1] = np.trace(np.dot(Rij[i,:,:], Rij[i,:,:]))\n",
    "    invariants[i,2] = np.trace(np.dot(Sij[i,:,:], np.dot(Sij[i,:,:], Sij[i,:,:])))\n",
    "    invariants[i,3] = np.trace(np.dot(Rij[i,:,:], np.dot(Rij[i,:,:], Sij[i,:,:])))\n",
    "    invariants[i,4] = np.trace(np.dot(np.dot(Rij[i,:,:], Rij[i,:,:]), np.dot(Sij[i,:,:], Sij[i,:,:])))    "
   ]
  },
  {
   "cell_type": "code",
   "execution_count": 40,
   "metadata": {},
   "outputs": [],
   "source": [
    "No_TensorsBasis = 10\n",
    "T = np.zeros((Points2, No_TensorsBasis, 3, 3))"
   ]
  },
  {
   "cell_type": "code",
   "execution_count": 42,
   "metadata": {},
   "outputs": [],
   "source": [
    "for i in range(Points2):\n",
    "    sij = Sij[i,:,:]\n",
    "    rij = Rij[i,:,:]\n",
    "    T[i,0,:,:] = sij #Primer tensor T\n",
    "    T[i,1,:,:] = np.dot(sij, rij) - np.dot(rij, sij)\n",
    "    T[i,2,:,:] = np.dot(sij, sij) - 1./3*np.eye(3)*np.trace(np.dot(sij, sij))\n",
    "    T[i,3,:,:] = np.dot(rij, rij) - 1./3*np.eye(3)*np.trace(np.dot(rij, rij))\n",
    "    T[i,4,:,:] = np.dot(rij, np.dot(sij, sij)) - np.dot(np.dot(sij, sij), rij)\n",
    "    T[i,5,:,:] = np.dot(rij, np.dot(rij, sij)) + np.dot(sij, np.dot(rij, rij)) - 2./3*np.eye(3)*np.trace(np.dot(sij, np.dot(rij, rij)))\n",
    "    T[i,6,:,:] = np.dot(np.dot(rij, sij), np.dot(rij,rij)) - np.dot(np.dot(rij,rij), np.dot(sij,rij))\n",
    "    T[i,7,:,:] = np.dot(np.dot(sij, rij), np.dot(sij, sij)) - np.dot(np.dot(sij, sij), np.dot(rij, sij))\n",
    "    T[i,8,:,:] = np.dot(np.dot(rij, rij), np.dot(sij, sij)) - np.dot(np.dot(sij, sij), np.dot(rij, rij)) -2./3*np.eye(3)*np.trace(np.dot(np.dot(sij, sij), np.dot(rij, rij)))\n",
    "    T[i,9,:,:] = np.dot(np.dot(rij, np.dot(sij, sij)), np.dot(rij, rij)) - np.dot(np.dot(rij, np.dot(rij,sij)) , np.dot(sij, sij))\n",
    "    for j in range(No_TensorsBasis):\n",
    "        T[i, j, :, :] = T[i, j, :, :] - 1./3*np.eye(3)*np.trace(T[i, j, :, :])    "
   ]
  },
  
  {
   "cell_type": "code",
   "execution_count": null,
   "metadata": {},
   "outputs": [],
   "source": []
  },
  {
   "cell_type": "code",
   "execution_count": null,
   "metadata": {},
   "outputs": [],
   "source": []
  },
  {
   "cell_type": "code",
   "execution_count": null,
   "metadata": {},
   "outputs": [],
   "source": []
  },
  {
   "cell_type": "code",
   "execution_count": null,
   "metadata": {},
   "outputs": [],
   "source": []
  }
 ],
 "metadata": {
  "kernelspec": {
   "display_name": "Python 3",
   "language": "python",
   "name": "python3"
  },
  "language_info": {
   "codemirror_mode": {
    "name": "ipython",
    "version": 3
   },
   "file_extension": ".py",
   "mimetype": "text/x-python",
   "name": "python",
   "nbconvert_exporter": "python",
   "pygments_lexer": "ipython3",
   "version": "3.7.6"
  }
 },
 "nbformat": 4,
 "nbformat_minor": 4
}
